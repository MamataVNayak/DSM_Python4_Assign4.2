{
 "cells": [
  {
   "cell_type": "code",
   "execution_count": 1,
   "metadata": {},
   "outputs": [
    {
     "name": "stdout",
     "output_type": "stream",
     "text": [
      "[2, 3, 4]\n"
     ]
    }
   ],
   "source": [
    "\"\"\"Write a Python program using function concept that maps list of words into a list of integers\n",
    "representing the lengths of the corresponding words.\n",
    "Hint:If a list [ ab,cde,erty] is passed on to the python function output should come as [2,3,4]\n",
    "Here 2,3 and 4 are the lengths of the words in the list.\"\"\"\n",
    "\n",
    "def map_word_length(wordList):\n",
    "    wordLengthList=[]\n",
    "    for i in wordList:\n",
    "        wordLengthList.append(len(i))\n",
    "    return wordLengthList\n",
    "\n",
    "#Calling function\n",
    "mywordList=[\"ab\",\"cde\",\"erty\"]\n",
    "resultList=[]\n",
    "resultList=map_word_length(mywordList)\n",
    "print(resultList)"
   ]
  },
  {
   "cell_type": "code",
   "execution_count": 18,
   "metadata": {},
   "outputs": [
    {
     "name": "stdout",
     "output_type": "stream",
     "text": [
      "Enter a character to check if it is vowel :b\n",
      "False\n",
      "b is not a vowel\n"
     ]
    }
   ],
   "source": [
    "\"\"\"Write a Python function which takes a character (i.e. a string of length 1) and returns True if it is a vowel, False otherwise\n",
    "\"\"\"\n",
    "def checkVowel(strInput):\n",
    "    vowel=['a','e','i','o','u']\n",
    "    #print(vowel)\n",
    "    if strInput.lower() in vowel:\n",
    "        return True\n",
    "    else:\n",
    "        return False\n",
    "inFlag = 0    \n",
    "while (inFlag>=0): \n",
    "    strIn=input(\"Enter a character to check if it is vowel :\")  \n",
    "    if (len(strIn)>1) :\n",
    "        print(\"Please enter only one character input :\")\n",
    "        inFlag=inFlag+1\n",
    "    else:\n",
    "        i=0\n",
    "        break\n",
    "checkFlag=checkVowel(strIn)\n",
    "print(checkFlag)\n",
    "if checkFlag is True:\n",
    "    print(strIn+\" is a vowel\")\n",
    "else:\n",
    "    print(strIn+\" is not a vowel\")\n",
    "    "
   ]
  },
  {
   "cell_type": "code",
   "execution_count": null,
   "metadata": {},
   "outputs": [],
   "source": []
  },
  {
   "cell_type": "code",
   "execution_count": null,
   "metadata": {},
   "outputs": [],
   "source": []
  }
 ],
 "metadata": {
  "kernelspec": {
   "display_name": "Python 3",
   "language": "python",
   "name": "python3"
  },
  "language_info": {
   "codemirror_mode": {
    "name": "ipython",
    "version": 3
   },
   "file_extension": ".py",
   "mimetype": "text/x-python",
   "name": "python",
   "nbconvert_exporter": "python",
   "pygments_lexer": "ipython3",
   "version": "3.6.4"
  }
 },
 "nbformat": 4,
 "nbformat_minor": 2
}
